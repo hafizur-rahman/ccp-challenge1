{
 "metadata": {
  "name": "",
  "signature": "sha256:924a344064077494727b0b9e02296bd4c0182a1d68c2a8605d26053b23d5c623"
 },
 "nbformat": 3,
 "nbformat_minor": 0,
 "worksheets": [
  {
   "cells": [
    {
     "cell_type": "code",
     "collapsed": false,
     "input": [
      "%matplotlib inline"
     ],
     "language": "python",
     "metadata": {},
     "outputs": [],
     "prompt_number": 26
    },
    {
     "cell_type": "code",
     "collapsed": false,
     "input": [
      "import numpy as np\n",
      "from numpy.random import randn\n",
      "import pandas as pd\n",
      "from scipy import stats\n",
      "import matplotlib as mpl\n",
      "import matplotlib.pyplot as plt\n",
      "import seaborn as sns"
     ],
     "language": "python",
     "metadata": {},
     "outputs": [],
     "prompt_number": 27
    },
    {
     "cell_type": "code",
     "collapsed": false,
     "input": [
      "df = pd.read_csv('https://archive.ics.uci.edu/ml/machine-learning-databases/pima-indians-diabetes/pima-indians-diabetes.data', sep=',',header=None)\n",
      "columns = ['pregnant', 'plasma-glucose', 'diastolic-bp','triceps-sft','serum-insulin','bmi','dpf','age','class']\n",
      "df.columns = columns"
     ],
     "language": "python",
     "metadata": {},
     "outputs": [],
     "prompt_number": 87
    },
    {
     "cell_type": "code",
     "collapsed": false,
     "input": [
      "df.describe()"
     ],
     "language": "python",
     "metadata": {},
     "outputs": [
      {
       "html": [
        "<div style=\"max-height:1000px;max-width:1500px;overflow:auto;\">\n",
        "<table border=\"1\" class=\"dataframe\">\n",
        "  <thead>\n",
        "    <tr style=\"text-align: right;\">\n",
        "      <th></th>\n",
        "      <th>pregnant</th>\n",
        "      <th>plasma-glucose</th>\n",
        "      <th>diastolic-bp</th>\n",
        "      <th>triceps-sft</th>\n",
        "      <th>serum-insulin</th>\n",
        "      <th>bmi</th>\n",
        "      <th>dpf</th>\n",
        "      <th>age</th>\n",
        "      <th>class</th>\n",
        "    </tr>\n",
        "  </thead>\n",
        "  <tbody>\n",
        "    <tr>\n",
        "      <th>count</th>\n",
        "      <td> 768.000000</td>\n",
        "      <td> 768.000000</td>\n",
        "      <td> 768.000000</td>\n",
        "      <td> 768.000000</td>\n",
        "      <td> 768.000000</td>\n",
        "      <td> 768.000000</td>\n",
        "      <td> 768.000000</td>\n",
        "      <td> 768.000000</td>\n",
        "      <td> 768.000000</td>\n",
        "    </tr>\n",
        "    <tr>\n",
        "      <th>mean</th>\n",
        "      <td>   3.845052</td>\n",
        "      <td> 120.894531</td>\n",
        "      <td>  69.105469</td>\n",
        "      <td>  20.536458</td>\n",
        "      <td>  79.799479</td>\n",
        "      <td>  31.992578</td>\n",
        "      <td>   0.471876</td>\n",
        "      <td>  33.240885</td>\n",
        "      <td>   0.348958</td>\n",
        "    </tr>\n",
        "    <tr>\n",
        "      <th>std</th>\n",
        "      <td>   3.369578</td>\n",
        "      <td>  31.972618</td>\n",
        "      <td>  19.355807</td>\n",
        "      <td>  15.952218</td>\n",
        "      <td> 115.244002</td>\n",
        "      <td>   7.884160</td>\n",
        "      <td>   0.331329</td>\n",
        "      <td>  11.760232</td>\n",
        "      <td>   0.476951</td>\n",
        "    </tr>\n",
        "    <tr>\n",
        "      <th>min</th>\n",
        "      <td>   0.000000</td>\n",
        "      <td>   0.000000</td>\n",
        "      <td>   0.000000</td>\n",
        "      <td>   0.000000</td>\n",
        "      <td>   0.000000</td>\n",
        "      <td>   0.000000</td>\n",
        "      <td>   0.078000</td>\n",
        "      <td>  21.000000</td>\n",
        "      <td>   0.000000</td>\n",
        "    </tr>\n",
        "    <tr>\n",
        "      <th>25%</th>\n",
        "      <td>   1.000000</td>\n",
        "      <td>  99.000000</td>\n",
        "      <td>  62.000000</td>\n",
        "      <td>   0.000000</td>\n",
        "      <td>   0.000000</td>\n",
        "      <td>  27.300000</td>\n",
        "      <td>   0.243750</td>\n",
        "      <td>  24.000000</td>\n",
        "      <td>   0.000000</td>\n",
        "    </tr>\n",
        "    <tr>\n",
        "      <th>50%</th>\n",
        "      <td>   3.000000</td>\n",
        "      <td> 117.000000</td>\n",
        "      <td>  72.000000</td>\n",
        "      <td>  23.000000</td>\n",
        "      <td>  30.500000</td>\n",
        "      <td>  32.000000</td>\n",
        "      <td>   0.372500</td>\n",
        "      <td>  29.000000</td>\n",
        "      <td>   0.000000</td>\n",
        "    </tr>\n",
        "    <tr>\n",
        "      <th>75%</th>\n",
        "      <td>   6.000000</td>\n",
        "      <td> 140.250000</td>\n",
        "      <td>  80.000000</td>\n",
        "      <td>  32.000000</td>\n",
        "      <td> 127.250000</td>\n",
        "      <td>  36.600000</td>\n",
        "      <td>   0.626250</td>\n",
        "      <td>  41.000000</td>\n",
        "      <td>   1.000000</td>\n",
        "    </tr>\n",
        "    <tr>\n",
        "      <th>max</th>\n",
        "      <td>  17.000000</td>\n",
        "      <td> 199.000000</td>\n",
        "      <td> 122.000000</td>\n",
        "      <td>  99.000000</td>\n",
        "      <td> 846.000000</td>\n",
        "      <td>  67.100000</td>\n",
        "      <td>   2.420000</td>\n",
        "      <td>  81.000000</td>\n",
        "      <td>   1.000000</td>\n",
        "    </tr>\n",
        "  </tbody>\n",
        "</table>\n",
        "</div>"
       ],
       "metadata": {},
       "output_type": "pyout",
       "prompt_number": 29,
       "text": [
        "         pregnant  plasma-glucose  diastolic-bp  triceps-sft  serum-insulin  \\\n",
        "count  768.000000      768.000000    768.000000   768.000000     768.000000   \n",
        "mean     3.845052      120.894531     69.105469    20.536458      79.799479   \n",
        "std      3.369578       31.972618     19.355807    15.952218     115.244002   \n",
        "min      0.000000        0.000000      0.000000     0.000000       0.000000   \n",
        "25%      1.000000       99.000000     62.000000     0.000000       0.000000   \n",
        "50%      3.000000      117.000000     72.000000    23.000000      30.500000   \n",
        "75%      6.000000      140.250000     80.000000    32.000000     127.250000   \n",
        "max     17.000000      199.000000    122.000000    99.000000     846.000000   \n",
        "\n",
        "              bmi         dpf         age       class  \n",
        "count  768.000000  768.000000  768.000000  768.000000  \n",
        "mean    31.992578    0.471876   33.240885    0.348958  \n",
        "std      7.884160    0.331329   11.760232    0.476951  \n",
        "min      0.000000    0.078000   21.000000    0.000000  \n",
        "25%     27.300000    0.243750   24.000000    0.000000  \n",
        "50%     32.000000    0.372500   29.000000    0.000000  \n",
        "75%     36.600000    0.626250   41.000000    1.000000  \n",
        "max     67.100000    2.420000   81.000000    1.000000  "
       ]
      }
     ],
     "prompt_number": 29
    },
    {
     "cell_type": "code",
     "collapsed": false,
     "input": [
      "plt.figure();\n",
      "df.hist();"
     ],
     "language": "python",
     "metadata": {},
     "outputs": [
      {
       "metadata": {},
       "output_type": "display_data",
       "text": [
        "<matplotlib.figure.Figure at 0x10c8c25d0>"
       ]
      },
      {
       "metadata": {},
       "output_type": "display_data",
       "png": "[encoded data removed]",
       "text": [
        "<matplotlib.figure.Figure at 0x10c587410>"
       ]
      }
     ],
     "prompt_number": 30
    },
    {
     "cell_type": "code",
     "collapsed": false,
     "input": [
      "plt.figure();\n",
      "df['pregnant'].plot(kind='hist', color=\"blue\", alpha=.5);\n",
      "df[df['class']==0]['pregnant'].plot(kind='hist', color=\"green\", alpha=.5);\n",
      "df[df['class']==1]['pregnant'].plot(kind='hist', color=\"red\", alpha=.5);"
     ],
     "language": "python",
     "metadata": {},
     "outputs": [
      {
       "metadata": {},
       "output_type": "display_data",
       "png": "[encoded data removed]",
       "text": [
        "<matplotlib.figure.Figure at 0x10db94250>"
       ]
      }
     ],
     "prompt_number": 40
    },
    {
     "cell_type": "code",
     "collapsed": false,
     "input": [
      "plt.figure();\n",
      "df['plasma-glucose'].plot(kind='hist', color=\"blue\", alpha=.5);\n",
      "df[df['class']==0]['plasma-glucose'].plot(kind='hist', color=\"green\", alpha=.5);\n",
      "df[df['class']==1]['plasma-glucose'].plot(kind='hist', color=\"red\", alpha=.5);"
     ],
     "language": "python",
     "metadata": {},
     "outputs": [
      {
       "metadata": {},
       "output_type": "display_data",
       "png": "[encoded data removed]",
       "text": [
        "<matplotlib.figure.Figure at 0x10c68f910>"
       ]
      }
     ],
     "prompt_number": 41
    },
    {
     "cell_type": "code",
     "collapsed": false,
     "input": [
      "plt.figure();\n",
      "df.plot(kind='box', vert=False);"
     ],
     "language": "python",
     "metadata": {},
     "outputs": [
      {
       "metadata": {},
       "output_type": "display_data",
       "text": [
        "<matplotlib.figure.Figure at 0x10c249e50>"
       ]
      },
      {
       "metadata": {},
       "output_type": "display_data",
       "png": "[encoded data removed]",
       "text": [
        "<matplotlib.figure.Figure at 0x10c83eb10>"
       ]
      }
     ],
     "prompt_number": 50
    },
    {
     "cell_type": "code",
     "collapsed": false,
     "input": [
      "plt.figure();\n",
      "df[df['class']==1].plot(kind='box', vert=False);"
     ],
     "language": "python",
     "metadata": {},
     "outputs": [
      {
       "metadata": {},
       "output_type": "display_data",
       "text": [
        "<matplotlib.figure.Figure at 0x10c53de90>"
       ]
      },
      {
       "metadata": {},
       "output_type": "display_data",
       "png": "[encoded data removed]",
       "text": [
        "<matplotlib.figure.Figure at 0x10c43f610>"
       ]
      }
     ],
     "prompt_number": 43
    },
    {
     "cell_type": "code",
     "collapsed": false,
     "input": [
      "stats.ttest_ind (df[df['class']==0]['diastolic-bp'], df[df['class']==1]['diastolic-bp'])"
     ],
     "language": "python",
     "metadata": {},
     "outputs": [
      {
       "metadata": {},
       "output_type": "pyout",
       "prompt_number": 55,
       "text": [
        "(-1.8047023017353887, 0.071513900097760819)"
       ]
      }
     ],
     "prompt_number": 55
    },
    {
     "cell_type": "code",
     "collapsed": false,
     "input": [
      "from math import sqrt\n",
      "import scipy.stats      \n",
      "dist = scipy.stats.norm(0, 1)\n",
      "\n",
      "def h_test(count, avg, std):\n",
      "    sp = ((count[0]-1) * std[0]**2 + (count[1]-1) * std[1]**2)/(count[0] + count[1]-2)\n",
      "    z = abs(avg[0]-avg[1])/(sqrt(sp * (1.0/count[0] + 1.0/count[1])))\n",
      "    p = dist.cdf(z)\n",
      "\n",
      "    if p > 0.5:\n",
      "        p = 1-p\n",
      "        \n",
      "    return (z, p)"
     ],
     "language": "python",
     "metadata": {},
     "outputs": [],
     "prompt_number": 109
    },
    {
     "cell_type": "code",
     "collapsed": false,
     "input": [
      "grouped = df.groupby('class')\n",
      "\n",
      "print 'column, count, avg, std, z, p-value'\n",
      "print '-----------------------------------'\n",
      "\n",
      "for c in columns:\n",
      "    count = grouped[c].count()\n",
      "    avg = grouped[c].mean()\n",
      "    std = grouped[c].std()\n",
      "    (z,p) = h_test(count, avg, std)\n",
      "    \n",
      "    for i in [1, 0]:\n",
      "        print c, count[i], avg[i], std[i], z, p\n",
      "    print '-----------------------'"
     ],
     "language": "python",
     "metadata": {},
     "outputs": [
      {
       "output_type": "stream",
       "stream": "stdout",
       "text": [
        "column, count, avg, std, z, p-value\n",
        "-----------------------------------\n",
        "pregnant 268 4.86567164179 3.74123904404 6.29843055004 1.50337187144e-10\n",
        "pregnant 500 3.298 3.01718458262 6.29843055004 1.50337187144e-10\n",
        "-----------------------\n",
        "plasma-glucose 268 141.257462687 31.939622058 14.600060006 0.0\n",
        "plasma-glucose 500 109.98 26.1411997554 14.600060006 0.0\n",
        "-----------------------\n",
        "diastolic-bp 268 70.8246268657 21.4918116506 1.80470230174 0.0355606397284\n",
        "diastolic-bp 500 68.184 18.0630754133 1.80470230174 0.0355606397284\n",
        "-----------------------\n",
        "triceps-sft 268 22.1641791045 17.6797114005 2.07470019642 0.0190071645881\n",
        "triceps-sft 500 19.664 14.8899471137 2.07470019642 0.0190071645881\n",
        "-----------------------\n",
        "serum-insulin 268 100.335820896 138.689124732 3.64432538765 0.000134047036283\n",
        "serum-insulin 500 68.792 98.8652892923 3.64432538765 0.000134047036283\n",
        "-----------------------\n",
        "bmi 268 35.1425373134 7.26296724235 8.47183994787 0.0\n",
        "bmi 500 30.3042 7.68985501165 8.47183994787 0.0\n",
        "-----------------------\n",
        "dpf 268 0.5505 0.372354483555 4.88582646073 5.14979446087e-07\n",
        "dpf 500 0.429734 0.299085304357 4.88582646073 5.14979446087e-07\n",
        "-----------------------\n",
        "age 268 37.0671641791 10.9682536524 6.79268807165 5.50315348846e-12\n",
        "age 500 31.19 11.6676547916 6.79268807165 5.50315348846e-12\n",
        "-----------------------\n",
        "class 268 1 0.0 inf 0.0\n",
        "class 500 0 0.0 inf 0.0\n",
        "-----------------------\n"
       ]
      }
     ],
     "prompt_number": 112
    },
    {
     "cell_type": "code",
     "collapsed": false,
     "input": [],
     "language": "python",
     "metadata": {},
     "outputs": []
    }
   ],
   "metadata": {}
  }
 ]
}